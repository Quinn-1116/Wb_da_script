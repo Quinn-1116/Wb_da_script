{
 "cells": [
  {
   "cell_type": "code",
   "execution_count": 1,
   "metadata": {},
   "outputs": [],
   "source": [
    "\n",
    "\"\"\"\n",
    "Connect senior:Mainland\n",
    "\"\"\"\n",
    "import pandas as pd\n",
    "import json\n",
    "import requests\n",
    "def ssql(sql):\n",
    "    admin_token = '2cebeb5c7edac5ef0d7c5a640e69fc7d43bf2cd6a24ce43dfee3dd33662c0bab'\n",
    "    url = 'http://sensor.wb-intra.com/api/sql/query?token=%s&project=production' % admin_token\n",
    "    data = {'q': sql, 'format': 'json'}\n",
    "    req = requests.post(url,data)\n",
    "    req_dec = req.content.decode()\n",
    "    try:\n",
    "        req_json = json.loads('[' + req_dec.replace('\\n', ',')[:-1] + ']')\n",
    "        df_d_id = pd.DataFrame(req_json)\n",
    "        return df_d_id\n",
    "    except:\n",
    "        print(req_dec)"
   ]
  },
  {
   "cell_type": "code",
   "execution_count": 8,
   "metadata": {},
   "outputs": [],
   "source": [
    "df = ssql(\"\"\"\n",
    "SELECT t0.game_level\n",
    "FROM\n",
    "  (SELECT distinct_id,\n",
    "          game_level,\n",
    "          time,\n",
    "          row_number()over(partition BY distinct_id\n",
    "                           ORDER BY time DESC) AS time_rank\n",
    "   FROM events\n",
    "   WHERE event = 'gameOver'\n",
    "     AND gameTypeId = 1800\n",
    "     AND date BETWEEN '2020-11-30' AND current_date()\n",
    "   GROUP BY 1,\n",
    "            2,\n",
    "            3)t0\n",
    "WHERE t0.time_rank = 1\n",
    "\"\"\")"
   ]
  },
  {
   "cell_type": "code",
   "execution_count": 9,
   "metadata": {},
   "outputs": [
    {
     "data": {
      "text/html": [
       "<div>\n",
       "<style scoped>\n",
       "    .dataframe tbody tr th:only-of-type {\n",
       "        vertical-align: middle;\n",
       "    }\n",
       "\n",
       "    .dataframe tbody tr th {\n",
       "        vertical-align: top;\n",
       "    }\n",
       "\n",
       "    .dataframe thead th {\n",
       "        text-align: right;\n",
       "    }\n",
       "</style>\n",
       "<table border=\"1\" class=\"dataframe\">\n",
       "  <thead>\n",
       "    <tr style=\"text-align: right;\">\n",
       "      <th></th>\n",
       "      <th>game_level</th>\n",
       "    </tr>\n",
       "  </thead>\n",
       "  <tbody>\n",
       "    <tr>\n",
       "      <th>0</th>\n",
       "      <td>5</td>\n",
       "    </tr>\n",
       "    <tr>\n",
       "      <th>1</th>\n",
       "      <td>8</td>\n",
       "    </tr>\n",
       "    <tr>\n",
       "      <th>2</th>\n",
       "      <td>10</td>\n",
       "    </tr>\n",
       "    <tr>\n",
       "      <th>3</th>\n",
       "      <td>1</td>\n",
       "    </tr>\n",
       "    <tr>\n",
       "      <th>4</th>\n",
       "      <td>1</td>\n",
       "    </tr>\n",
       "    <tr>\n",
       "      <th>...</th>\n",
       "      <td>...</td>\n",
       "    </tr>\n",
       "    <tr>\n",
       "      <th>418781</th>\n",
       "      <td>0</td>\n",
       "    </tr>\n",
       "    <tr>\n",
       "      <th>418782</th>\n",
       "      <td>2</td>\n",
       "    </tr>\n",
       "    <tr>\n",
       "      <th>418783</th>\n",
       "      <td>6</td>\n",
       "    </tr>\n",
       "    <tr>\n",
       "      <th>418784</th>\n",
       "      <td>11</td>\n",
       "    </tr>\n",
       "    <tr>\n",
       "      <th>418785</th>\n",
       "      <td>5</td>\n",
       "    </tr>\n",
       "  </tbody>\n",
       "</table>\n",
       "<p>418786 rows × 1 columns</p>\n",
       "</div>"
      ],
      "text/plain": [
       "        game_level\n",
       "0                5\n",
       "1                8\n",
       "2               10\n",
       "3                1\n",
       "4                1\n",
       "...            ...\n",
       "418781           0\n",
       "418782           2\n",
       "418783           6\n",
       "418784          11\n",
       "418785           5\n",
       "\n",
       "[418786 rows x 1 columns]"
      ]
     },
     "execution_count": 9,
     "metadata": {},
     "output_type": "execute_result"
    }
   ],
   "source": [
    "df"
   ]
  },
  {
   "cell_type": "code",
   "execution_count": 5,
   "metadata": {},
   "outputs": [],
   "source": [
    "import matplotlib.pyplot as plt"
   ]
  },
  {
   "cell_type": "code",
   "execution_count": null,
   "metadata": {},
   "outputs": [],
   "source": []
  },
  {
   "cell_type": "code",
   "execution_count": 26,
   "metadata": {},
   "outputs": [],
   "source": [
    "bin = len(df['game_level'].unique())"
   ]
  },
  {
   "cell_type": "code",
   "execution_count": 27,
   "metadata": {},
   "outputs": [
    {
     "data": {
      "text/plain": [
       "32"
      ]
     },
     "execution_count": 27,
     "metadata": {},
     "output_type": "execute_result"
    }
   ],
   "source": [
    "bin"
   ]
  },
  {
   "cell_type": "code",
   "execution_count": 28,
   "metadata": {},
   "outputs": [
    {
     "data": {
      "text/plain": [
       "(array([4.79493491e-02, 5.92656223e-02, 1.34096974e-01, 1.00673175e-01,\n",
       "        1.00365064e-01, 9.61106781e-02, 8.61500901e-02, 7.71705250e-02,\n",
       "        6.91029663e-02, 5.65887605e-02, 4.52626278e-02, 3.90634496e-02,\n",
       "        2.95169617e-02, 2.29579108e-02, 1.74045317e-02, 1.31747942e-02,\n",
       "        1.00813673e-02, 7.62634484e-03, 5.51394099e-03, 4.09170409e-03,\n",
       "        2.95785837e-03, 2.25783189e-03, 1.56520006e-03, 1.03525043e-03,\n",
       "        8.15875935e-04, 5.64457973e-04, 3.77126943e-04, 2.26769142e-04,\n",
       "        1.55287565e-04, 6.16220495e-05, 6.40869315e-05, 9.85952792e-06]),\n",
       " array([ 0.     ,  0.96875,  1.9375 ,  2.90625,  3.875  ,  4.84375,\n",
       "         5.8125 ,  6.78125,  7.75   ,  8.71875,  9.6875 , 10.65625,\n",
       "        11.625  , 12.59375, 13.5625 , 14.53125, 15.5    , 16.46875,\n",
       "        17.4375 , 18.40625, 19.375  , 20.34375, 21.3125 , 22.28125,\n",
       "        23.25   , 24.21875, 25.1875 , 26.15625, 27.125  , 28.09375,\n",
       "        29.0625 , 30.03125, 31.     ]),\n",
       " <BarContainer object of 32 artists>)"
      ]
     },
     "execution_count": 28,
     "metadata": {},
     "output_type": "execute_result"
    },
    {
     "data": {
      "image/png": "[encoded data removed]",
      "text/plain": [
       "<Figure size 432x288 with 1 Axes>"
      ]
     },
     "metadata": {
      "needs_background": "light"
     },
     "output_type": "display_data"
    }
   ],
   "source": [
    "plt.hist(df.game_level,bins=int(bin),density=True)"
   ]
  },
  {
   "cell_type": "code",
   "execution_count": 29,
   "metadata": {},
   "outputs": [],
   "source": [
    "import seaborn as sns"
   ]
  },
  {
   "cell_type": "code",
   "execution_count": 31,
   "metadata": {},
   "outputs": [
    {
     "data": {
      "text/plain": [
       "<AxesSubplot:xlabel='game_level'>"
      ]
     },
     "execution_count": 31,
     "metadata": {},
     "output_type": "execute_result"
    },
    {
     "data": {
      "image/png": "[encoded data removed]",
      "text/plain": [
       "<Figure size 432x288 with 1 Axes>"
      ]
     },
     "metadata": {
      "needs_background": "light"
     },
     "output_type": "display_data"
    }
   ],
   "source": [
    "sns.distplot(df.game_level,kde=True)"
   ]
  },
  {
   "cell_type": "code",
   "execution_count": null,
   "metadata": {},
   "outputs": [],
   "source": []
  }
 ],
 "metadata": {
  "kernelspec": {
   "display_name": "Python 3",
   "language": "python",
   "name": "python3"
  },
  "language_info": {
   "codemirror_mode": {
    "name": "ipython",
    "version": 3
   },
   "file_extension": ".py",
   "mimetype": "text/x-python",
   "name": "python",
   "nbconvert_exporter": "python",
   "pygments_lexer": "ipython3",
   "version": "3.7.8"
  }
 },
 "nbformat": 4,
 "nbformat_minor": 4
}
